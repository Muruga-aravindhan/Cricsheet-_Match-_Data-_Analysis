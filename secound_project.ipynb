{
 "cells": [
  {
   "cell_type": "code",
   "execution_count": 6,
   "metadata": {},
   "outputs": [],
   "source": [
    "import json\n",
    "import pandas as pd\n",
    "import os\n",
    "\n",
    "# Known venue to city mapping\n",
    "venue_to_city = {\n",
    "    \"Eden Gardens\": \"Kolkata\",\n",
    "    \"Lord's\": \"London\",\n",
    "    \"Wankhede Stadium\": \"Mumbai\",\n",
    "    \"Melbourne Cricket Ground\": \"Melbourne\",\n",
    "    \"Sydney Cricket Ground\": \"Sydney\",\n",
    "    \"Old Trafford\": \"Manchester\",\n",
    "    \"Sharjah Cricket Stadium\": \"Sharjah\",\n",
    "    \"Dubai International Cricket Stadium\": \"Dubai\",\n",
    "    \"Adelaide Oval\": \"Adelaide\",\n",
    "    \"The Oval\": \"London\",\n",
    "    \"Pallekele International Cricket Stadium\": \"Pallekele\",\n",
    "    \"R. Premadasa Stadium\": \"Colombo\",\n",
    "    \"MA Chidambaram Stadium\": \"Chennai\",\n",
    "    \"Newlands\": \"Cape Town\",\n",
    "    \"SuperSport Park\": \"Centurion\"\n",
    "}\n",
    "\n",
    "def extract_match_data(match_type, folder_path, output_prefix):\n",
    "    all_matches = []\n",
    "\n",
    "    for file_name in os.listdir(folder_path):\n",
    "        if file_name.endswith('.json'):\n",
    "            file_path = os.path.join(folder_path, file_name)\n",
    "\n",
    "            with open(file_path, 'r', encoding='utf-8') as f:\n",
    "                match_data = json.load(f)\n",
    "\n",
    "            info = match_data.get('info', {})\n",
    "\n",
    "            # Ensure correct match type\n",
    "            if info.get('match_type', '').lower() != match_type.lower():\n",
    "                continue\n",
    "\n",
    "            outcome = info.get('outcome', {})\n",
    "            toss = info.get('toss', {})\n",
    "            officials = info.get('officials', {})\n",
    "\n",
    "            # Result margin\n",
    "            result_margin = \"Null\"\n",
    "            if 'by' in outcome:\n",
    "                if 'runs' in outcome['by']:\n",
    "                    result_margin = str(outcome['by']['runs']) + \" runs\"\n",
    "                elif 'wickets' in outcome['by']:\n",
    "                    result_margin = str(outcome['by']['wickets']) + \" wickets\"\n",
    "\n",
    "            # Result type\n",
    "            result_type = outcome.get('result', '')\n",
    "            if result_type == '':\n",
    "                result_type = 'normal' if 'winner' in outcome else 'unknown'\n",
    "\n",
    "            # Venue and city\n",
    "            venue = info.get('venue', 'Null')\n",
    "            city = info.get('city', '')\n",
    "            if city == '':\n",
    "                city = venue_to_city.get(venue, 'Null')\n",
    "\n",
    "            match_details = {\n",
    "                'Match ID': file_name.replace('.json', ''),\n",
    "                'Date': info.get('dates', ['Null'])[0],\n",
    "                'City': city,\n",
    "                'Venue': venue,\n",
    "                'Teams': ', '.join(info.get('teams', [])) or 'Null',\n",
    "                'Winner': outcome.get('winner', 'Null'),\n",
    "                'Result Type': result_type,\n",
    "                'Result Margin': result_margin,\n",
    "                'Overs': info.get('overs', 'Null'),\n",
    "                'Toss Winner': toss.get('winner', 'Null'),\n",
    "                'Toss Decision': toss.get('decision', 'Null'),\n",
    "                'Player of Match': ', '.join(info.get('player_of_match', [])) or 'Null',\n",
    "                'Umpires': ', '.join(officials.get('umpires', [])) or 'Null',\n",
    "                'Match Referee': ', '.join(officials.get('match_referees', [])) or 'Null',\n",
    "                'Match Type': info.get('match_type', 'Null'),\n",
    "                'Gender': info.get('gender', 'Null')\n",
    "            }\n",
    "\n",
    "            all_matches.append(match_details)\n",
    "\n",
    "    df = pd.DataFrame(all_matches)\n",
    "    df.to_csv(f'{output_prefix}_matches_detailed.csv', index=False)\n",
    "    df.to_excel(f'{output_prefix}_matches_detailed.xlsx', index=False)\n",
    "\n",
    "    print(f\"{match_type.upper()} match data saved as CSV and Excel successfully\")\n",
    "\n",
    "\n"
   ]
  },
  {
   "cell_type": "code",
   "execution_count": 8,
   "metadata": {},
   "outputs": [
    {
     "name": "stdout",
     "output_type": "stream",
     "text": [
      "ODI match data saved as CSV and Excel successfully\n"
     ]
    }
   ],
   "source": [
    "extract_match_data(\n",
    "    'odi',\n",
    "    r'C:\\DATA SCIENCE COURSE\\secound project sample test\\cricsheet_data\\odis',\n",
    "    'odi'\n",
    ")"
   ]
  },
  {
   "cell_type": "code",
   "execution_count": 9,
   "metadata": {},
   "outputs": [
    {
     "name": "stdout",
     "output_type": "stream",
     "text": [
      "T20 match data saved as CSV and Excel successfully\n"
     ]
    }
   ],
   "source": [
    "extract_match_data(\n",
    "    't20',\n",
    "    r'C:\\DATA SCIENCE COURSE\\secound project sample test\\cricsheet_data\\t20s',\n",
    "    't20'\n",
    ")\n"
   ]
  },
  {
   "cell_type": "code",
   "execution_count": 10,
   "metadata": {},
   "outputs": [
    {
     "name": "stdout",
     "output_type": "stream",
     "text": [
      "TEST match data saved as CSV and Excel successfully\n"
     ]
    }
   ],
   "source": [
    "extract_match_data(\n",
    "    'test',\n",
    "    r'C:\\DATA SCIENCE COURSE\\secound project sample test\\cricsheet_data\\tests',\n",
    "    'test'\n",
    ")\n"
   ]
  },
  {
   "cell_type": "code",
   "execution_count": 7,
   "metadata": {},
   "outputs": [],
   "source": [
    "import mysql.connector\n",
    "class cricket:\n",
    "  def __init__(self,host,user,password,port,database,ssl_ca):\n",
    "    self.host = host\n",
    "    self.user = user\n",
    "    self.password = password\n",
    "    self.port = port\n",
    "    self.database = database\n",
    "    self.ssl_ca = ssl_ca\n",
    "    self.conn = None\n",
    "    self.cursor = None\n",
    "  def connect(self):\n",
    "    self.conn = mysql.connector.connect(host = self.host, user = self.user, password = self.password, port = self.port, database = self.database, ssl_ca = self.ssl_ca  )\n",
    "    self.cursor = self.conn.cursor()\n",
    "    print(\"connection sucessful\")\n",
    "  def create_table(self,table_query):\n",
    "    self.cursor.execute(table_query)\n",
    "    self.conn.commit()\n",
    "  def insert_into_list_tuple(self,inser_query,list_tuple):\n",
    "    self.cursor.executemany(inser_query,list_tuple)\n",
    "    self.conn.commit()\n",
    "    print(\"insert sucessful\")"
   ]
  },
  {
   "cell_type": "code",
   "execution_count": 8,
   "metadata": {},
   "outputs": [],
   "source": [
    "config ={\"host\":\"gateway01.ap-southeast-1.prod.aws.tidbcloud.com\", \"user\" : \"2k28pcyNk66J4wT.root\", \"port\":4000, \"password\":\"MJfUrQWyu2HIZEBk\", \"database\":\"cricket_analysis\", \"ssl_ca\":r\"C:\\DATA SCIENCE COURSE\\secound project sample test\\cricsheet_data\\isrgrootx1.pem\"}\n",
    "db_obj = cricket(**config)\n"
   ]
  },
  {
   "cell_type": "code",
   "execution_count": 9,
   "metadata": {},
   "outputs": [
    {
     "name": "stdout",
     "output_type": "stream",
     "text": [
      "connection sucessful\n"
     ]
    }
   ],
   "source": [
    "db_obj.connect()"
   ]
  },
  {
   "cell_type": "code",
   "execution_count": 30,
   "metadata": {},
   "outputs": [],
   "source": [
    "TQ = \"create table Odis_matches(Match_id varchar(50),Date DATE,City varchar(100), Venue varchar(200),\" \\\n",
    "\"Teams varchar(200),Winner varchar(100),Result_Type varchar(50),Result_Margin varchar(50),\" \\\n",
    "\"Overs TINYINT UNSIGNED,Toss_winner varchar(100),Toss_decision varchar(20),\" \\\n",
    "\"Player_of_match varchar(100),Umpires varchar(100), Match_Referee varchar(50),\" \\\n",
    "\"Match_Type varchar(20),Gender varchar(10)) \"\n",
    "db_obj.create_table(TQ)"
   ]
  },
  {
   "cell_type": "code",
   "execution_count": 31,
   "metadata": {},
   "outputs": [],
   "source": [
    "TQ = \"create table T20s_matches(Match_id varchar(50),Date DATE,City varchar(100),\" \\\n",
    "\"Venue varchar(200),Teams varchar(200),Winner varchar(100),Result_Type varchar(50), \"\\\n",
    "\"Result_Margin varchar(50),Overs TINYINT UNSIGNED,Toss_winner varchar(100),\"\\\n",
    "\"Toss_decision varchar(20),Player_of_match varchar(100),Umpires varchar(100),\"\\\n",
    "\"Match_Referee varchar(50),Match_Type varchar(20),Gender varchar(10)) \"\n",
    "db_obj.create_table(TQ)"
   ]
  },
  {
   "cell_type": "code",
   "execution_count": 32,
   "metadata": {},
   "outputs": [],
   "source": [
    "TQ = \"create table Tests_matches(Match_id varchar(50),Date DATE,City varchar(100),\" \\\n",
    "\"Venue varchar(200),Teams varchar(200),Winner varchar(100),Result_Type varchar(50), \"\\\n",
    "\"Result_Margin varchar(50),Overs TINYINT UNSIGNED,Toss_winner varchar(100),\"\\\n",
    "\"Toss_decision varchar(20),Player_of_match varchar(100),Umpires varchar(100),\"\\\n",
    "\"Match_Referee varchar(50),Match_Type varchar(20),Gender varchar(10)) \"\n",
    "db_obj.create_table(TQ)"
   ]
  },
  {
   "cell_type": "code",
   "execution_count": 10,
   "metadata": {},
   "outputs": [
    {
     "name": "stdout",
     "output_type": "stream",
     "text": [
      "insert sucessful\n"
     ]
    }
   ],
   "source": [
    "# Load CSV into DataFrame\n",
    "df_odies = pd.read_csv(\"odi_matches_detailed.csv\")\n",
    "# Prepare insert query\n",
    "insert_query = \"\"\"\n",
    "INSERT INTO odis_matches \n",
    "(Match_id, Date, City, Venue, Teams, Winner,Result_Type,Result_Margin,Toss_winner,Overs, \n",
    "Toss_decision, Player_of_match,Umpires,Match_Referee,Match_Type,Gender) \n",
    "VALUES (%s, %s, %s, %s, %s, %s, %s, %s, %s, %s, %s, %s, %s, %s, %s, %s)\n",
    "\"\"\"\n",
    "# Convert DataFrame to list of tuples\n",
    "list_of_tuples_odies = [\n",
    "    (\n",
    "        row['Match ID'], row['Date'], row['City'], row['Venue'], row['Teams'],row['Winner'], \n",
    "        row['Result Type'], row['Result Margin'], row['Toss Winner'], row['Overs'] ,row['Toss Decision'], \n",
    "        row['Player of Match'],row['Umpires'],row['Match Referee'],row['Match Type'],row['Gender']\n",
    "    )\n",
    "    for index, row in df_odies.iterrows()\n",
    "]\n",
    "\n",
    "db_obj.insert_into_list_tuple(insert_query, list_of_tuples_odies)"
   ]
  },
  {
   "cell_type": "code",
   "execution_count": 11,
   "metadata": {},
   "outputs": [
    {
     "name": "stdout",
     "output_type": "stream",
     "text": [
      "insert sucessful\n"
     ]
    }
   ],
   "source": [
    "# Load CSV into DataFrame\n",
    "df_t20s = pd.read_csv(\"t20_matches_detailed.csv\")\n",
    "# Prepare insert query\n",
    "insert_query = \"\"\"\n",
    "INSERT INTO t20s_matches \n",
    "(Match_id, Date, City, Venue, Teams, Winner,Result_Type,Result_Margin,Toss_winner,Overs, \n",
    "Toss_decision, Player_of_match,Umpires,Match_Referee,Match_Type,Gender) \n",
    "VALUES (%s, %s, %s, %s, %s, %s, %s, %s, %s, %s, %s, %s, %s, %s, %s, %s)\n",
    "\"\"\"\n",
    "# Convert DataFrame to list of tuples\n",
    "list_of_tuples_t20s = [\n",
    "    (\n",
    "        row['Match ID'], row['Date'], row['City'], row['Venue'], row['Teams'],row['Winner'], \n",
    "        row['Result Type'], row['Result Margin'], row['Toss Winner'], row['Overs'] ,row['Toss Decision'], \n",
    "        row['Player of Match'],row['Umpires'],row['Match Referee'],row['Match Type'],row['Gender']\n",
    "    )\n",
    "    for index, row in df_t20s.iterrows()\n",
    "]\n",
    "\n",
    "db_obj.insert_into_list_tuple(insert_query, list_of_tuples_t20s)"
   ]
  },
  {
   "cell_type": "code",
   "execution_count": 12,
   "metadata": {},
   "outputs": [
    {
     "name": "stdout",
     "output_type": "stream",
     "text": [
      "insert sucessful\n"
     ]
    }
   ],
   "source": [
    "import pandas as pd\n",
    "\n",
    "# Load CSV into DataFrame\n",
    "df_tests = pd.read_csv(\"test_matches_detailed.csv\")\n",
    "\n",
    "# Clean and rename columns\n",
    "df_tests.rename(columns={\n",
    "    'Match ID': 'Match_id',\n",
    "    'Result Type': 'Result_Type',\n",
    "    'Result Margin': 'Result_Margin',\n",
    "    'Toss Winner': 'Toss_winner',\n",
    "    'Toss Decision': 'Toss_decision',\n",
    "    'Player of Match': 'Player_of_match',\n",
    "    'Match Referee': 'Match_Referee',\n",
    "    'Match Type': 'Match_Type'\n",
    "}, inplace=True)\n",
    "\n",
    "# Replace invalid string values with None (NULL in MySQL)\n",
    "df_tests.replace({'Null': None, '?': None, '': None}, inplace=True)\n",
    "\n",
    "# Ensure Overs is numeric and compatible\n",
    "df_tests['Overs'] = pd.to_numeric(df_tests['Overs'], errors='coerce')\n",
    "\n",
    "# Prepare insert query\n",
    "insert_query = \"\"\"\n",
    "INSERT INTO tests_matches \n",
    "(Match_id, Date, City, Venue, Teams, Winner, Result_Type, Result_Margin, Toss_winner, Overs, \n",
    "Toss_decision, Player_of_match, Umpires, Match_Referee, Match_Type, Gender) \n",
    "VALUES (%s, %s, %s, %s, %s, %s, %s, %s, %s, %s, %s, %s, %s, %s, %s, %s)\n",
    "\"\"\"\n",
    "\n",
    "# Convert DataFrame to list of tuples\n",
    "list_of_tuples_test = [\n",
    "    (\n",
    "        row['Match_id'], row['Date'], row['City'], row['Venue'], row['Teams'], row['Winner'], \n",
    "        row['Result_Type'], row['Result_Margin'], row['Toss_winner'], row['Overs'],\n",
    "        row['Toss_decision'], row['Player_of_match'], row['Umpires'], \n",
    "        row['Match_Referee'], row['Match_Type'], row['Gender']\n",
    "    )\n",
    "    for _, row in df_tests.iterrows()\n",
    "]\n",
    "\n",
    "# Insert into DB\n",
    "db_obj.insert_into_list_tuple(insert_query, list_of_tuples_test)\n"
   ]
  },
  {
   "cell_type": "code",
   "execution_count": 19,
   "metadata": {},
   "outputs": [],
   "source": [
    "import pandas as pd "
   ]
  },
  {
   "cell_type": "code",
   "execution_count": 88,
   "metadata": {},
   "outputs": [
    {
     "name": "stdout",
     "output_type": "stream",
     "text": [
      "<class 'pandas.core.frame.DataFrame'>\n",
      "Index: 2640 entries, 0 to 2920\n",
      "Data columns (total 18 columns):\n",
      " #   Column           Non-Null Count  Dtype \n",
      "---  ------           --------------  ----- \n",
      " 0   Match ID         2640 non-null   int64 \n",
      " 1   Date             2640 non-null   object\n",
      " 2   City             2640 non-null   object\n",
      " 3   Venue            2640 non-null   object\n",
      " 4   Teams            2640 non-null   object\n",
      " 5   Winner           2640 non-null   object\n",
      " 6   Result Type      2640 non-null   object\n",
      " 7   Result Margin    2640 non-null   object\n",
      " 8   Overs            2640 non-null   int64 \n",
      " 9   Toss Winner      2640 non-null   object\n",
      " 10  Toss Decision    2640 non-null   object\n",
      " 11  Player of Match  2640 non-null   object\n",
      " 12  Umpires          2640 non-null   object\n",
      " 13  Match Referee    2640 non-null   object\n",
      " 14  Match Type       2640 non-null   object\n",
      " 15  Gender           2640 non-null   object\n",
      " 16  year             2640 non-null   int32 \n",
      " 17  Year             2640 non-null   int32 \n",
      "dtypes: int32(2), int64(2), object(14)\n",
      "memory usage: 371.2+ KB\n"
     ]
    }
   ],
   "source": [
    "df_odies.info()\n"
   ]
  },
  {
   "cell_type": "code",
   "execution_count": 87,
   "metadata": {},
   "outputs": [
    {
     "data": {
      "text/plain": [
       "Match ID           0\n",
       "Date               0\n",
       "City               0\n",
       "Venue              0\n",
       "Teams              0\n",
       "Winner             0\n",
       "Result Type        0\n",
       "Result Margin      0\n",
       "Overs              0\n",
       "Toss Winner        0\n",
       "Toss Decision      0\n",
       "Player of Match    0\n",
       "Umpires            0\n",
       "Match Referee      0\n",
       "Match Type         0\n",
       "Gender             0\n",
       "year               0\n",
       "Year               0\n",
       "dtype: int64"
      ]
     },
     "execution_count": 87,
     "metadata": {},
     "output_type": "execute_result"
    }
   ],
   "source": [
    "df_odies.isnull().sum()\n"
   ]
  },
  {
   "cell_type": "code",
   "execution_count": 89,
   "metadata": {},
   "outputs": [
    {
     "data": {
      "text/plain": [
       "False"
      ]
     },
     "execution_count": 89,
     "metadata": {},
     "output_type": "execute_result"
    }
   ],
   "source": [
    "df_odies.isnull().values.any()\n"
   ]
  },
  {
   "cell_type": "code",
   "execution_count": 26,
   "metadata": {},
   "outputs": [
    {
     "name": "stdout",
     "output_type": "stream",
     "text": [
      "0\n",
      "0\n"
     ]
    }
   ],
   "source": [
    "print(df_odies['Winner'].isnull().sum())  # number of nulls before cleaning\n",
    "print(df_odies_clean['Winner'].isnull().sum())  # should be 0\n"
   ]
  },
  {
   "cell_type": "code",
   "execution_count": 29,
   "metadata": {},
   "outputs": [
    {
     "name": "stdout",
     "output_type": "stream",
     "text": [
      "['Australia' 'Pakistan' 'Null' 'Scotland' 'India' 'New Zealand'\n",
      " 'South Africa' 'England' 'Sri Lanka' 'Bangladesh' 'Hong Kong'\n",
      " 'Papua New Guinea' 'West Indies' 'Zimbabwe' 'United Arab Emirates'\n",
      " 'Ireland' 'Nepal' 'Namibia' 'Netherlands' 'Oman'\n",
      " 'United States of America' 'Thailand' 'Canada' 'Jersey' 'Africa XI'\n",
      " 'Bermuda' 'Kenya' 'Asia XI']\n"
     ]
    }
   ],
   "source": [
    "print(df_odies['Winner'].unique())\n"
   ]
  },
  {
   "cell_type": "code",
   "execution_count": 62,
   "metadata": {},
   "outputs": [
    {
     "name": "stdout",
     "output_type": "stream",
     "text": [
      "['Australia' 'Pakistan' 'Scotland' 'India' 'New Zealand' 'South Africa'\n",
      " 'England' 'Sri Lanka' 'Bangladesh' 'Hong Kong' 'Papua New Guinea'\n",
      " 'West Indies' 'Zimbabwe' 'United Arab Emirates' 'Ireland' 'Nepal'\n",
      " 'Namibia' 'Netherlands' 'Oman' 'United States of America' 'Thailand'\n",
      " 'Canada' 'Jersey' 'Africa XI' 'Bermuda' 'Kenya' 'Asia XI']\n"
     ]
    }
   ],
   "source": [
    "# Remove rows where 'Winner' is 'Null', 'unknown', or 'Unknown'\n",
    "df_odies = df_odies[~df_odies['Winner'].isin(['Null', 'unknown', 'Unknown'])]\n",
    "\n",
    "# Verify the values are removed\n",
    "print(df_odies['Winner'].unique())\n"
   ]
  },
  {
   "cell_type": "code",
   "execution_count": 64,
   "metadata": {},
   "outputs": [
    {
     "name": "stdout",
     "output_type": "stream",
     "text": [
      "['Brisbane' 'Melbourne' 'Perth' 'Sydney' 'Adelaide' 'Canberra' 'Edinburgh'\n",
      " 'Christchurch' 'Nelson' 'Auckland' 'Hamilton' 'Wellington' 'London'\n",
      " 'Birmingham' 'Cardiff' 'Hong Kong' 'Antigua' 'Barbados' 'Bristol'\n",
      " 'Mirpur' 'Chittagong' 'Dharmasala' 'Delhi' 'Chandigarh' 'Ranchi'\n",
      " 'Visakhapatnam' 'Leeds' 'Southampton' 'Manchester' 'Dublin' 'Pune'\n",
      " 'Cuttack' 'Kolkata' \"Cox's Bazar\" 'Coffs Harbour' 'Colombo' 'Sharjah'\n",
      " 'Abu Dhabi' 'Lincoln' 'Mount Maunganui' 'Bulawayo' 'Kimberley' 'Paarl'\n",
      " 'East London' 'Guyana' 'Dubai' 'Derby' 'Leicester' 'Taunton'\n",
      " 'Potchefstroom' 'Trinidad' 'Jamaica' 'Hambantota' 'Pallekele' 'Dunedin'\n",
      " 'Whangarei' 'Chennai' 'Indore' 'Bengaluru' 'Nagpur' 'Nottingham'\n",
      " 'Chester-le-Street' 'Mumbai' 'Kanpur' 'Durban' 'Centurion' 'Cape Town'\n",
      " 'Johannesburg' 'Port Elizabeth' 'Dharamsala' 'Worcester' 'Hove'\n",
      " 'Canterbury' 'Dhaka' 'Vadodara' 'Harare' 'Bloemfontein' 'Hobart'\n",
      " 'St Kitts' 'Sylhet' 'Chattogram' 'Napier' 'Kuala Lumpur'\n",
      " 'FTZ Sports Complex' 'Guwahati' 'Thiruvananthapuram' 'Bridgetown'\n",
      " \"St George's\" 'Gros Islet' 'Chelmsford' 'Hyderabad' 'Bready' 'Belfast'\n",
      " 'Windhoek' 'Katunayake' 'Rajkot' 'Deventer' 'Port of Spain' 'Aberdeen'\n",
      " 'Coolidge' 'North Sound' 'Karachi' 'Lauderhill' 'Al Amarat' 'Kandy'\n",
      " 'Kirtipur' 'Utrecht' 'Lucknow' 'Rotterdam' 'Mackay' 'Kingston'\n",
      " 'Ahmedabad' 'Amstelveen' 'Lahore' 'Queenstown' 'Northampton' 'Brighton'\n",
      " 'Pearland' 'Multan' 'Providence' 'Townsville' 'Cairns' 'Ayr' 'Glasgow'\n",
      " 'The Hague' 'Port Moresby' 'Benoni' 'Rawalpindi' 'Chiang Mai' 'Raipur'\n",
      " 'Kathmandu' 'Bangkok' 'Galle' 'Tarouba' 'Gqeberha' 'Pietermaritzburg'\n",
      " 'Almeria' 'Dundee' 'Basseterre' 'King City' 'Dallas' 'Dambulla'\n",
      " 'St Vincent' 'St Lucia' 'Peshawar' 'Bogra' 'Fatullah' 'Faridabad'\n",
      " 'Margao' 'Jamshedpur' 'Grenada' 'Nairobi' 'Jaipur' 'Faisalabad'\n",
      " 'Pretoria' 'Bangalore' 'Kochi' 'Gwalior' 'Sind' 'Darwin' 'Kurunegala'\n",
      " 'Dominica' 'Toronto' 'Wormsley' 'Khulna' 'Loughborough' 'Kingstown'\n",
      " 'Scarborough' 'Bowral']\n"
     ]
    }
   ],
   "source": [
    "# Remove rows where 'Winner' is 'Null', 'unknown', or 'Unknown'\n",
    "df_odies = df_odies[~df_odies['City'].isin(['Null', 'unknown', 'Unknown'])]\n",
    "\n",
    "# Verify the values are removed\n",
    "print(df_odies['City'].unique())\n"
   ]
  },
  {
   "cell_type": "code",
   "execution_count": 71,
   "metadata": {},
   "outputs": [],
   "source": [
    "import matplotlib.pyplot as plt\n",
    "import seaborn as sns"
   ]
  },
  {
   "cell_type": "code",
   "execution_count": 66,
   "metadata": {},
   "outputs": [
    {
     "data": {
      "image/png": "[encoded data removed]",
      "text/plain": [
       "<Figure size 1000x600 with 1 Axes>"
      ]
     },
     "metadata": {},
     "output_type": "display_data"
    }
   ],
   "source": [
    "plt.figure(figsize=(10,6))\n",
    "sns.countplot(y='Winner', data=df_odies, order=df_odies['Winner'].value_counts().head(10).index)\n",
    "plt.title('Top 10 Most Successful ODI Teams')\n",
    "plt.xlabel('Match Wins')\n",
    "plt.ylabel('Team')\n",
    "plt.show()\n"
   ]
  },
  {
   "cell_type": "code",
   "execution_count": 65,
   "metadata": {},
   "outputs": [
    {
     "data": {
      "image/png": "[encoded data removed]",
      "text/plain": [
       "<Figure size 1000x600 with 1 Axes>"
      ]
     },
     "metadata": {},
     "output_type": "display_data"
    }
   ],
   "source": [
    "city_counts = df_odies['City'].value_counts().head(10)\n",
    "plt.figure(figsize=(10,6))\n",
    "plt.bar(city_counts.index, city_counts.values, color='skyblue')\n",
    "plt.xticks(rotation=45)\n",
    "plt.title('Top 10 Cities by Number of Matches')\n",
    "plt.xlabel('City')\n",
    "plt.ylabel('Number of Matches')\n",
    "plt.tight_layout()\n",
    "plt.show()\n"
   ]
  },
  {
   "cell_type": "code",
   "execution_count": 75,
   "metadata": {},
   "outputs": [
    {
     "data": {
      "image/png": "[encoded data removed]",
      "text/plain": [
       "<Figure size 600x600 with 1 Axes>"
      ]
     },
     "metadata": {},
     "output_type": "display_data"
    }
   ],
   "source": [
    "toss_decisions = df_odies['Toss Decision'].value_counts()\n",
    "plt.figure(figsize=(6,6))\n",
    "plt.pie(toss_decisions, labels=toss_decisions.index, autopct='%1.1f%%', startangle=90)\n",
    "plt.title('Toss Decision Distribution')\n",
    "plt.show()\n"
   ]
  },
  {
   "cell_type": "code",
   "execution_count": 90,
   "metadata": {},
   "outputs": [
    {
     "name": "stderr",
     "output_type": "stream",
     "text": [
      "C:\\Users\\aravi\\AppData\\Local\\Temp\\ipykernel_11004\\1330419007.py:2: FutureWarning:\n",
      "\n",
      "\n",
      "\n",
      "Passing `palette` without assigning `hue` is deprecated and will be removed in v0.14.0. Assign the `y` variable to `hue` and set `legend=False` for the same effect.\n",
      "\n",
      "\n"
     ]
    },
    {
     "data": {
      "image/png": "[encoded data removed]",
      "text/plain": [
       "<Figure size 1000x600 with 1 Axes>"
      ]
     },
     "metadata": {},
     "output_type": "display_data"
    }
   ],
   "source": [
    "plt.figure(figsize=(10,6))\n",
    "sns.countplot(y='Venue', data=df_odies, order=df_odies['Venue'].value_counts().head(10).index, palette='viridis')\n",
    "plt.title('Top 10 Most Played Venues')\n",
    "plt.xlabel('Number of Matches')\n",
    "plt.ylabel('Venue')\n",
    "plt.show()\n"
   ]
  },
  {
   "cell_type": "code",
   "execution_count": 83,
   "metadata": {},
   "outputs": [
    {
     "data": {
      "application/vnd.plotly.v1+json": {
       "config": {
        "plotlyServerURL": "https://plot.ly"
       },
       "data": [
        {
         "alignmentgroup": "True",
         "hovertemplate": "Toss Decision=bat<br>Team=%{x}<br>Count=%{y}<extra></extra>",
         "legendgroup": "bat",
         "marker": {
          "color": "#636efa",
          "pattern": {
           "shape": ""
          }
         },
         "name": "bat",
         "offsetgroup": "bat",
         "orientation": "v",
         "showlegend": true,
         "textposition": "auto",
         "type": "bar",
         "x": [
          "Asia XI",
          "Australia",
          "Bangladesh",
          "Bermuda",
          "Canada",
          "England",
          "Hong Kong",
          "India",
          "Ireland",
          "Jersey",
          "Kenya",
          "Namibia",
          "Nepal",
          "Netherlands",
          "New Zealand",
          "Oman",
          "Pakistan",
          "Papua New Guinea",
          "Scotland",
          "South Africa",
          "Sri Lanka",
          "Thailand",
          "United Arab Emirates",
          "United States of America",
          "West Indies",
          "Zimbabwe"
         ],
         "xaxis": "x",
         "y": [
          3,
          178,
          77,
          2,
          11,
          122,
          3,
          130,
          32,
          2,
          12,
          16,
          9,
          20,
          101,
          7,
          128,
          16,
          19,
          120,
          152,
          2,
          18,
          9,
          73,
          53
         ],
         "yaxis": "y"
        },
        {
         "alignmentgroup": "True",
         "hovertemplate": "Toss Decision=field<br>Team=%{x}<br>Count=%{y}<extra></extra>",
         "legendgroup": "field",
         "marker": {
          "color": "#EF553B",
          "pattern": {
           "shape": ""
          }
         },
         "name": "field",
         "offsetgroup": "field",
         "orientation": "v",
         "showlegend": true,
         "textposition": "auto",
         "type": "bar",
         "x": [
          "Asia XI",
          "Australia",
          "Bangladesh",
          "Bermuda",
          "Canada",
          "England",
          "Hong Kong",
          "India",
          "Ireland",
          "Jersey",
          "Kenya",
          "Namibia",
          "Nepal",
          "Netherlands",
          "New Zealand",
          "Oman",
          "Pakistan",
          "Papua New Guinea",
          "Scotland",
          "South Africa",
          "Sri Lanka",
          "Thailand",
          "United Arab Emirates",
          "United States of America",
          "West Indies",
          "Zimbabwe"
         ],
         "xaxis": "x",
         "y": [
          1,
          102,
          83,
          2,
          17,
          147,
          3,
          133,
          44,
          1,
          5,
          22,
          28,
          30,
          117,
          24,
          87,
          12,
          23,
          116,
          90,
          1,
          28,
          18,
          129,
          62
         ],
         "yaxis": "y"
        }
       ],
       "layout": {
        "barmode": "stack",
        "legend": {
         "title": {
          "text": "Toss Decision"
         },
         "tracegroupgap": 0
        },
        "template": {
         "data": {
          "bar": [
           {
            "error_x": {
             "color": "#2a3f5f"
            },
            "error_y": {
             "color": "#2a3f5f"
            },
            "marker": {
             "line": {
              "color": "#E5ECF6",
              "width": 0.5
             },
             "pattern": {
              "fillmode": "overlay",
              "size": 10,
              "solidity": 0.2
             }
            },
            "type": "bar"
           }
          ],
          "barpolar": [
           {
            "marker": {
             "line": {
              "color": "#E5ECF6",
              "width": 0.5
             },
             "pattern": {
              "fillmode": "overlay",
              "size": 10,
              "solidity": 0.2
             }
            },
            "type": "barpolar"
           }
          ],
          "carpet": [
           {
            "aaxis": {
             "endlinecolor": "#2a3f5f",
             "gridcolor": "white",
             "linecolor": "white",
             "minorgridcolor": "white",
             "startlinecolor": "#2a3f5f"
            },
            "baxis": {
             "endlinecolor": "#2a3f5f",
             "gridcolor": "white",
             "linecolor": "white",
             "minorgridcolor": "white",
             "startlinecolor": "#2a3f5f"
            },
            "type": "carpet"
           }
          ],
          "choropleth": [
           {
            "colorbar": {
             "outlinewidth": 0,
             "ticks": ""
            },
            "type": "choropleth"
           }
          ],
          "contour": [
           {
            "colorbar": {
             "outlinewidth": 0,
             "ticks": ""
            },
            "colorscale": [
             [
              0,
              "#0d0887"
             ],
             [
              0.1111111111111111,
              "#46039f"
             ],
             [
              0.2222222222222222,
              "#7201a8"
             ],
             [
              0.3333333333333333,
              "#9c179e"
             ],
             [
              0.4444444444444444,
              "#bd3786"
             ],
             [
              0.5555555555555556,
              "#d8576b"
             ],
             [
              0.6666666666666666,
              "#ed7953"
             ],
             [
              0.7777777777777778,
              "#fb9f3a"
             ],
             [
              0.8888888888888888,
              "#fdca26"
             ],
             [
              1,
              "#f0f921"
             ]
            ],
            "type": "contour"
           }
          ],
          "contourcarpet": [
           {
            "colorbar": {
             "outlinewidth": 0,
             "ticks": ""
            },
            "type": "contourcarpet"
           }
          ],
          "heatmap": [
           {
            "colorbar": {
             "outlinewidth": 0,
             "ticks": ""
            },
            "colorscale": [
             [
              0,
              "#0d0887"
             ],
             [
              0.1111111111111111,
              "#46039f"
             ],
             [
              0.2222222222222222,
              "#7201a8"
             ],
             [
              0.3333333333333333,
              "#9c179e"
             ],
             [
              0.4444444444444444,
              "#bd3786"
             ],
             [
              0.5555555555555556,
              "#d8576b"
             ],
             [
              0.6666666666666666,
              "#ed7953"
             ],
             [
              0.7777777777777778,
              "#fb9f3a"
             ],
             [
              0.8888888888888888,
              "#fdca26"
             ],
             [
              1,
              "#f0f921"
             ]
            ],
            "type": "heatmap"
           }
          ],
          "heatmapgl": [
           {
            "colorbar": {
             "outlinewidth": 0,
             "ticks": ""
            },
            "colorscale": [
             [
              0,
              "#0d0887"
             ],
             [
              0.1111111111111111,
              "#46039f"
             ],
             [
              0.2222222222222222,
              "#7201a8"
             ],
             [
              0.3333333333333333,
              "#9c179e"
             ],
             [
              0.4444444444444444,
              "#bd3786"
             ],
             [
              0.5555555555555556,
              "#d8576b"
             ],
             [
              0.6666666666666666,
              "#ed7953"
             ],
             [
              0.7777777777777778,
              "#fb9f3a"
             ],
             [
              0.8888888888888888,
              "#fdca26"
             ],
             [
              1,
              "#f0f921"
             ]
            ],
            "type": "heatmapgl"
           }
          ],
          "histogram": [
           {
            "marker": {
             "pattern": {
              "fillmode": "overlay",
              "size": 10,
              "solidity": 0.2
             }
            },
            "type": "histogram"
           }
          ],
          "histogram2d": [
           {
            "colorbar": {
             "outlinewidth": 0,
             "ticks": ""
            },
            "colorscale": [
             [
              0,
              "#0d0887"
             ],
             [
              0.1111111111111111,
              "#46039f"
             ],
             [
              0.2222222222222222,
              "#7201a8"
             ],
             [
              0.3333333333333333,
              "#9c179e"
             ],
             [
              0.4444444444444444,
              "#bd3786"
             ],
             [
              0.5555555555555556,
              "#d8576b"
             ],
             [
              0.6666666666666666,
              "#ed7953"
             ],
             [
              0.7777777777777778,
              "#fb9f3a"
             ],
             [
              0.8888888888888888,
              "#fdca26"
             ],
             [
              1,
              "#f0f921"
             ]
            ],
            "type": "histogram2d"
           }
          ],
          "histogram2dcontour": [
           {
            "colorbar": {
             "outlinewidth": 0,
             "ticks": ""
            },
            "colorscale": [
             [
              0,
              "#0d0887"
             ],
             [
              0.1111111111111111,
              "#46039f"
             ],
             [
              0.2222222222222222,
              "#7201a8"
             ],
             [
              0.3333333333333333,
              "#9c179e"
             ],
             [
              0.4444444444444444,
              "#bd3786"
             ],
             [
              0.5555555555555556,
              "#d8576b"
             ],
             [
              0.6666666666666666,
              "#ed7953"
             ],
             [
              0.7777777777777778,
              "#fb9f3a"
             ],
             [
              0.8888888888888888,
              "#fdca26"
             ],
             [
              1,
              "#f0f921"
             ]
            ],
            "type": "histogram2dcontour"
           }
          ],
          "mesh3d": [
           {
            "colorbar": {
             "outlinewidth": 0,
             "ticks": ""
            },
            "type": "mesh3d"
           }
          ],
          "parcoords": [
           {
            "line": {
             "colorbar": {
              "outlinewidth": 0,
              "ticks": ""
             }
            },
            "type": "parcoords"
           }
          ],
          "pie": [
           {
            "automargin": true,
            "type": "pie"
           }
          ],
          "scatter": [
           {
            "fillpattern": {
             "fillmode": "overlay",
             "size": 10,
             "solidity": 0.2
            },
            "type": "scatter"
           }
          ],
          "scatter3d": [
           {
            "line": {
             "colorbar": {
              "outlinewidth": 0,
              "ticks": ""
             }
            },
            "marker": {
             "colorbar": {
              "outlinewidth": 0,
              "ticks": ""
             }
            },
            "type": "scatter3d"
           }
          ],
          "scattercarpet": [
           {
            "marker": {
             "colorbar": {
              "outlinewidth": 0,
              "ticks": ""
             }
            },
            "type": "scattercarpet"
           }
          ],
          "scattergeo": [
           {
            "marker": {
             "colorbar": {
              "outlinewidth": 0,
              "ticks": ""
             }
            },
            "type": "scattergeo"
           }
          ],
          "scattergl": [
           {
            "marker": {
             "colorbar": {
              "outlinewidth": 0,
              "ticks": ""
             }
            },
            "type": "scattergl"
           }
          ],
          "scattermapbox": [
           {
            "marker": {
             "colorbar": {
              "outlinewidth": 0,
              "ticks": ""
             }
            },
            "type": "scattermapbox"
           }
          ],
          "scatterpolar": [
           {
            "marker": {
             "colorbar": {
              "outlinewidth": 0,
              "ticks": ""
             }
            },
            "type": "scatterpolar"
           }
          ],
          "scatterpolargl": [
           {
            "marker": {
             "colorbar": {
              "outlinewidth": 0,
              "ticks": ""
             }
            },
            "type": "scatterpolargl"
           }
          ],
          "scatterternary": [
           {
            "marker": {
             "colorbar": {
              "outlinewidth": 0,
              "ticks": ""
             }
            },
            "type": "scatterternary"
           }
          ],
          "surface": [
           {
            "colorbar": {
             "outlinewidth": 0,
             "ticks": ""
            },
            "colorscale": [
             [
              0,
              "#0d0887"
             ],
             [
              0.1111111111111111,
              "#46039f"
             ],
             [
              0.2222222222222222,
              "#7201a8"
             ],
             [
              0.3333333333333333,
              "#9c179e"
             ],
             [
              0.4444444444444444,
              "#bd3786"
             ],
             [
              0.5555555555555556,
              "#d8576b"
             ],
             [
              0.6666666666666666,
              "#ed7953"
             ],
             [
              0.7777777777777778,
              "#fb9f3a"
             ],
             [
              0.8888888888888888,
              "#fdca26"
             ],
             [
              1,
              "#f0f921"
             ]
            ],
            "type": "surface"
           }
          ],
          "table": [
           {
            "cells": {
             "fill": {
              "color": "#EBF0F8"
             },
             "line": {
              "color": "white"
             }
            },
            "header": {
             "fill": {
              "color": "#C8D4E3"
             },
             "line": {
              "color": "white"
             }
            },
            "type": "table"
           }
          ]
         },
         "layout": {
          "annotationdefaults": {
           "arrowcolor": "#2a3f5f",
           "arrowhead": 0,
           "arrowwidth": 1
          },
          "autotypenumbers": "strict",
          "coloraxis": {
           "colorbar": {
            "outlinewidth": 0,
            "ticks": ""
           }
          },
          "colorscale": {
           "diverging": [
            [
             0,
             "#8e0152"
            ],
            [
             0.1,
             "#c51b7d"
            ],
            [
             0.2,
             "#de77ae"
            ],
            [
             0.3,
             "#f1b6da"
            ],
            [
             0.4,
             "#fde0ef"
            ],
            [
             0.5,
             "#f7f7f7"
            ],
            [
             0.6,
             "#e6f5d0"
            ],
            [
             0.7,
             "#b8e186"
            ],
            [
             0.8,
             "#7fbc41"
            ],
            [
             0.9,
             "#4d9221"
            ],
            [
             1,
             "#276419"
            ]
           ],
           "sequential": [
            [
             0,
             "#0d0887"
            ],
            [
             0.1111111111111111,
             "#46039f"
            ],
            [
             0.2222222222222222,
             "#7201a8"
            ],
            [
             0.3333333333333333,
             "#9c179e"
            ],
            [
             0.4444444444444444,
             "#bd3786"
            ],
            [
             0.5555555555555556,
             "#d8576b"
            ],
            [
             0.6666666666666666,
             "#ed7953"
            ],
            [
             0.7777777777777778,
             "#fb9f3a"
            ],
            [
             0.8888888888888888,
             "#fdca26"
            ],
            [
             1,
             "#f0f921"
            ]
           ],
           "sequentialminus": [
            [
             0,
             "#0d0887"
            ],
            [
             0.1111111111111111,
             "#46039f"
            ],
            [
             0.2222222222222222,
             "#7201a8"
            ],
            [
             0.3333333333333333,
             "#9c179e"
            ],
            [
             0.4444444444444444,
             "#bd3786"
            ],
            [
             0.5555555555555556,
             "#d8576b"
            ],
            [
             0.6666666666666666,
             "#ed7953"
            ],
            [
             0.7777777777777778,
             "#fb9f3a"
            ],
            [
             0.8888888888888888,
             "#fdca26"
            ],
            [
             1,
             "#f0f921"
            ]
           ]
          },
          "colorway": [
           "#636efa",
           "#EF553B",
           "#00cc96",
           "#ab63fa",
           "#FFA15A",
           "#19d3f3",
           "#FF6692",
           "#B6E880",
           "#FF97FF",
           "#FECB52"
          ],
          "font": {
           "color": "#2a3f5f"
          },
          "geo": {
           "bgcolor": "white",
           "lakecolor": "white",
           "landcolor": "#E5ECF6",
           "showlakes": true,
           "showland": true,
           "subunitcolor": "white"
          },
          "hoverlabel": {
           "align": "left"
          },
          "hovermode": "closest",
          "mapbox": {
           "style": "light"
          },
          "paper_bgcolor": "white",
          "plot_bgcolor": "#E5ECF6",
          "polar": {
           "angularaxis": {
            "gridcolor": "white",
            "linecolor": "white",
            "ticks": ""
           },
           "bgcolor": "#E5ECF6",
           "radialaxis": {
            "gridcolor": "white",
            "linecolor": "white",
            "ticks": ""
           }
          },
          "scene": {
           "xaxis": {
            "backgroundcolor": "#E5ECF6",
            "gridcolor": "white",
            "gridwidth": 2,
            "linecolor": "white",
            "showbackground": true,
            "ticks": "",
            "zerolinecolor": "white"
           },
           "yaxis": {
            "backgroundcolor": "#E5ECF6",
            "gridcolor": "white",
            "gridwidth": 2,
            "linecolor": "white",
            "showbackground": true,
            "ticks": "",
            "zerolinecolor": "white"
           },
           "zaxis": {
            "backgroundcolor": "#E5ECF6",
            "gridcolor": "white",
            "gridwidth": 2,
            "linecolor": "white",
            "showbackground": true,
            "ticks": "",
            "zerolinecolor": "white"
           }
          },
          "shapedefaults": {
           "line": {
            "color": "#2a3f5f"
           }
          },
          "ternary": {
           "aaxis": {
            "gridcolor": "white",
            "linecolor": "white",
            "ticks": ""
           },
           "baxis": {
            "gridcolor": "white",
            "linecolor": "white",
            "ticks": ""
           },
           "bgcolor": "#E5ECF6",
           "caxis": {
            "gridcolor": "white",
            "linecolor": "white",
            "ticks": ""
           }
          },
          "title": {
           "x": 0.05
          },
          "xaxis": {
           "automargin": true,
           "gridcolor": "white",
           "linecolor": "white",
           "ticks": "",
           "title": {
            "standoff": 15
           },
           "zerolinecolor": "white",
           "zerolinewidth": 2
          },
          "yaxis": {
           "automargin": true,
           "gridcolor": "white",
           "linecolor": "white",
           "ticks": "",
           "title": {
            "standoff": 15
           },
           "zerolinecolor": "white",
           "zerolinewidth": 2
          }
         }
        },
        "title": {
         "text": "Toss Decision by Toss Winner"
        },
        "xaxis": {
         "anchor": "y",
         "domain": [
          0,
          1
         ],
         "tickangle": -45,
         "title": {
          "text": "Team"
         }
        },
        "yaxis": {
         "anchor": "x",
         "domain": [
          0,
          1
         ],
         "title": {
          "text": "Count"
         }
        }
       }
      }
     },
     "metadata": {},
     "output_type": "display_data"
    }
   ],
   "source": [
    "import plotly.express as px\n",
    "\n",
    "toss_group = df_odies.groupby(['Toss Winner', 'Toss Decision']).size().reset_index(name='Count')\n",
    "fig = px.bar(toss_group, x='Toss Winner', y='Count', color='Toss Decision', barmode='stack',\n",
    "             title='Toss Decision by Toss Winner', labels={'Toss Winner':'Team'})\n",
    "fig.update_layout(xaxis_tickangle=-45)\n",
    "fig.show()\n"
   ]
  },
  {
   "cell_type": "code",
   "execution_count": 86,
   "metadata": {},
   "outputs": [
    {
     "data": {
      "application/vnd.plotly.v1+json": {
       "config": {
        "plotlyServerURL": "https://plot.ly"
       },
       "data": [
        {
         "branchvalues": "total",
         "domain": {
          "x": [
           0,
           1
          ],
          "y": [
           0,
           1
          ]
         },
         "hovertemplate": "labels=%{label}<br>Wins=%{value}<br>parent=%{parent}<br>id=%{id}<extra></extra>",
         "ids": [
          "Australia",
          "Bangladesh",
          "England",
          "India",
          "Ireland",
          "New Zealand",
          "Pakistan",
          "South Africa",
          "Sri Lanka",
          "West Indies"
         ],
         "labels": [
          "Australia",
          "Bangladesh",
          "England",
          "India",
          "Ireland",
          "New Zealand",
          "Pakistan",
          "South Africa",
          "Sri Lanka",
          "West Indies"
         ],
         "name": "",
         "parents": [
          "",
          "",
          "",
          "",
          "",
          "",
          "",
          "",
          "",
          ""
         ],
         "type": "treemap",
         "values": [
          375,
          131,
          290,
          344,
          57,
          229,
          210,
          278,
          215,
          157
         ]
        }
       ],
       "layout": {
        "legend": {
         "tracegroupgap": 0
        },
        "template": {
         "data": {
          "bar": [
           {
            "error_x": {
             "color": "#2a3f5f"
            },
            "error_y": {
             "color": "#2a3f5f"
            },
            "marker": {
             "line": {
              "color": "#E5ECF6",
              "width": 0.5
             },
             "pattern": {
              "fillmode": "overlay",
              "size": 10,
              "solidity": 0.2
             }
            },
            "type": "bar"
           }
          ],
          "barpolar": [
           {
            "marker": {
             "line": {
              "color": "#E5ECF6",
              "width": 0.5
             },
             "pattern": {
              "fillmode": "overlay",
              "size": 10,
              "solidity": 0.2
             }
            },
            "type": "barpolar"
           }
          ],
          "carpet": [
           {
            "aaxis": {
             "endlinecolor": "#2a3f5f",
             "gridcolor": "white",
             "linecolor": "white",
             "minorgridcolor": "white",
             "startlinecolor": "#2a3f5f"
            },
            "baxis": {
             "endlinecolor": "#2a3f5f",
             "gridcolor": "white",
             "linecolor": "white",
             "minorgridcolor": "white",
             "startlinecolor": "#2a3f5f"
            },
            "type": "carpet"
           }
          ],
          "choropleth": [
           {
            "colorbar": {
             "outlinewidth": 0,
             "ticks": ""
            },
            "type": "choropleth"
           }
          ],
          "contour": [
           {
            "colorbar": {
             "outlinewidth": 0,
             "ticks": ""
            },
            "colorscale": [
             [
              0,
              "#0d0887"
             ],
             [
              0.1111111111111111,
              "#46039f"
             ],
             [
              0.2222222222222222,
              "#7201a8"
             ],
             [
              0.3333333333333333,
              "#9c179e"
             ],
             [
              0.4444444444444444,
              "#bd3786"
             ],
             [
              0.5555555555555556,
              "#d8576b"
             ],
             [
              0.6666666666666666,
              "#ed7953"
             ],
             [
              0.7777777777777778,
              "#fb9f3a"
             ],
             [
              0.8888888888888888,
              "#fdca26"
             ],
             [
              1,
              "#f0f921"
             ]
            ],
            "type": "contour"
           }
          ],
          "contourcarpet": [
           {
            "colorbar": {
             "outlinewidth": 0,
             "ticks": ""
            },
            "type": "contourcarpet"
           }
          ],
          "heatmap": [
           {
            "colorbar": {
             "outlinewidth": 0,
             "ticks": ""
            },
            "colorscale": [
             [
              0,
              "#0d0887"
             ],
             [
              0.1111111111111111,
              "#46039f"
             ],
             [
              0.2222222222222222,
              "#7201a8"
             ],
             [
              0.3333333333333333,
              "#9c179e"
             ],
             [
              0.4444444444444444,
              "#bd3786"
             ],
             [
              0.5555555555555556,
              "#d8576b"
             ],
             [
              0.6666666666666666,
              "#ed7953"
             ],
             [
              0.7777777777777778,
              "#fb9f3a"
             ],
             [
              0.8888888888888888,
              "#fdca26"
             ],
             [
              1,
              "#f0f921"
             ]
            ],
            "type": "heatmap"
           }
          ],
          "heatmapgl": [
           {
            "colorbar": {
             "outlinewidth": 0,
             "ticks": ""
            },
            "colorscale": [
             [
              0,
              "#0d0887"
             ],
             [
              0.1111111111111111,
              "#46039f"
             ],
             [
              0.2222222222222222,
              "#7201a8"
             ],
             [
              0.3333333333333333,
              "#9c179e"
             ],
             [
              0.4444444444444444,
              "#bd3786"
             ],
             [
              0.5555555555555556,
              "#d8576b"
             ],
             [
              0.6666666666666666,
              "#ed7953"
             ],
             [
              0.7777777777777778,
              "#fb9f3a"
             ],
             [
              0.8888888888888888,
              "#fdca26"
             ],
             [
              1,
              "#f0f921"
             ]
            ],
            "type": "heatmapgl"
           }
          ],
          "histogram": [
           {
            "marker": {
             "pattern": {
              "fillmode": "overlay",
              "size": 10,
              "solidity": 0.2
             }
            },
            "type": "histogram"
           }
          ],
          "histogram2d": [
           {
            "colorbar": {
             "outlinewidth": 0,
             "ticks": ""
            },
            "colorscale": [
             [
              0,
              "#0d0887"
             ],
             [
              0.1111111111111111,
              "#46039f"
             ],
             [
              0.2222222222222222,
              "#7201a8"
             ],
             [
              0.3333333333333333,
              "#9c179e"
             ],
             [
              0.4444444444444444,
              "#bd3786"
             ],
             [
              0.5555555555555556,
              "#d8576b"
             ],
             [
              0.6666666666666666,
              "#ed7953"
             ],
             [
              0.7777777777777778,
              "#fb9f3a"
             ],
             [
              0.8888888888888888,
              "#fdca26"
             ],
             [
              1,
              "#f0f921"
             ]
            ],
            "type": "histogram2d"
           }
          ],
          "histogram2dcontour": [
           {
            "colorbar": {
             "outlinewidth": 0,
             "ticks": ""
            },
            "colorscale": [
             [
              0,
              "#0d0887"
             ],
             [
              0.1111111111111111,
              "#46039f"
             ],
             [
              0.2222222222222222,
              "#7201a8"
             ],
             [
              0.3333333333333333,
              "#9c179e"
             ],
             [
              0.4444444444444444,
              "#bd3786"
             ],
             [
              0.5555555555555556,
              "#d8576b"
             ],
             [
              0.6666666666666666,
              "#ed7953"
             ],
             [
              0.7777777777777778,
              "#fb9f3a"
             ],
             [
              0.8888888888888888,
              "#fdca26"
             ],
             [
              1,
              "#f0f921"
             ]
            ],
            "type": "histogram2dcontour"
           }
          ],
          "mesh3d": [
           {
            "colorbar": {
             "outlinewidth": 0,
             "ticks": ""
            },
            "type": "mesh3d"
           }
          ],
          "parcoords": [
           {
            "line": {
             "colorbar": {
              "outlinewidth": 0,
              "ticks": ""
             }
            },
            "type": "parcoords"
           }
          ],
          "pie": [
           {
            "automargin": true,
            "type": "pie"
           }
          ],
          "scatter": [
           {
            "fillpattern": {
             "fillmode": "overlay",
             "size": 10,
             "solidity": 0.2
            },
            "type": "scatter"
           }
          ],
          "scatter3d": [
           {
            "line": {
             "colorbar": {
              "outlinewidth": 0,
              "ticks": ""
             }
            },
            "marker": {
             "colorbar": {
              "outlinewidth": 0,
              "ticks": ""
             }
            },
            "type": "scatter3d"
           }
          ],
          "scattercarpet": [
           {
            "marker": {
             "colorbar": {
              "outlinewidth": 0,
              "ticks": ""
             }
            },
            "type": "scattercarpet"
           }
          ],
          "scattergeo": [
           {
            "marker": {
             "colorbar": {
              "outlinewidth": 0,
              "ticks": ""
             }
            },
            "type": "scattergeo"
           }
          ],
          "scattergl": [
           {
            "marker": {
             "colorbar": {
              "outlinewidth": 0,
              "ticks": ""
             }
            },
            "type": "scattergl"
           }
          ],
          "scattermapbox": [
           {
            "marker": {
             "colorbar": {
              "outlinewidth": 0,
              "ticks": ""
             }
            },
            "type": "scattermapbox"
           }
          ],
          "scatterpolar": [
           {
            "marker": {
             "colorbar": {
              "outlinewidth": 0,
              "ticks": ""
             }
            },
            "type": "scatterpolar"
           }
          ],
          "scatterpolargl": [
           {
            "marker": {
             "colorbar": {
              "outlinewidth": 0,
              "ticks": ""
             }
            },
            "type": "scatterpolargl"
           }
          ],
          "scatterternary": [
           {
            "marker": {
             "colorbar": {
              "outlinewidth": 0,
              "ticks": ""
             }
            },
            "type": "scatterternary"
           }
          ],
          "surface": [
           {
            "colorbar": {
             "outlinewidth": 0,
             "ticks": ""
            },
            "colorscale": [
             [
              0,
              "#0d0887"
             ],
             [
              0.1111111111111111,
              "#46039f"
             ],
             [
              0.2222222222222222,
              "#7201a8"
             ],
             [
              0.3333333333333333,
              "#9c179e"
             ],
             [
              0.4444444444444444,
              "#bd3786"
             ],
             [
              0.5555555555555556,
              "#d8576b"
             ],
             [
              0.6666666666666666,
              "#ed7953"
             ],
             [
              0.7777777777777778,
              "#fb9f3a"
             ],
             [
              0.8888888888888888,
              "#fdca26"
             ],
             [
              1,
              "#f0f921"
             ]
            ],
            "type": "surface"
           }
          ],
          "table": [
           {
            "cells": {
             "fill": {
              "color": "#EBF0F8"
             },
             "line": {
              "color": "white"
             }
            },
            "header": {
             "fill": {
              "color": "#C8D4E3"
             },
             "line": {
              "color": "white"
             }
            },
            "type": "table"
           }
          ]
         },
         "layout": {
          "annotationdefaults": {
           "arrowcolor": "#2a3f5f",
           "arrowhead": 0,
           "arrowwidth": 1
          },
          "autotypenumbers": "strict",
          "coloraxis": {
           "colorbar": {
            "outlinewidth": 0,
            "ticks": ""
           }
          },
          "colorscale": {
           "diverging": [
            [
             0,
             "#8e0152"
            ],
            [
             0.1,
             "#c51b7d"
            ],
            [
             0.2,
             "#de77ae"
            ],
            [
             0.3,
             "#f1b6da"
            ],
            [
             0.4,
             "#fde0ef"
            ],
            [
             0.5,
             "#f7f7f7"
            ],
            [
             0.6,
             "#e6f5d0"
            ],
            [
             0.7,
             "#b8e186"
            ],
            [
             0.8,
             "#7fbc41"
            ],
            [
             0.9,
             "#4d9221"
            ],
            [
             1,
             "#276419"
            ]
           ],
           "sequential": [
            [
             0,
             "#0d0887"
            ],
            [
             0.1111111111111111,
             "#46039f"
            ],
            [
             0.2222222222222222,
             "#7201a8"
            ],
            [
             0.3333333333333333,
             "#9c179e"
            ],
            [
             0.4444444444444444,
             "#bd3786"
            ],
            [
             0.5555555555555556,
             "#d8576b"
            ],
            [
             0.6666666666666666,
             "#ed7953"
            ],
            [
             0.7777777777777778,
             "#fb9f3a"
            ],
            [
             0.8888888888888888,
             "#fdca26"
            ],
            [
             1,
             "#f0f921"
            ]
           ],
           "sequentialminus": [
            [
             0,
             "#0d0887"
            ],
            [
             0.1111111111111111,
             "#46039f"
            ],
            [
             0.2222222222222222,
             "#7201a8"
            ],
            [
             0.3333333333333333,
             "#9c179e"
            ],
            [
             0.4444444444444444,
             "#bd3786"
            ],
            [
             0.5555555555555556,
             "#d8576b"
            ],
            [
             0.6666666666666666,
             "#ed7953"
            ],
            [
             0.7777777777777778,
             "#fb9f3a"
            ],
            [
             0.8888888888888888,
             "#fdca26"
            ],
            [
             1,
             "#f0f921"
            ]
           ]
          },
          "colorway": [
           "#636efa",
           "#EF553B",
           "#00cc96",
           "#ab63fa",
           "#FFA15A",
           "#19d3f3",
           "#FF6692",
           "#B6E880",
           "#FF97FF",
           "#FECB52"
          ],
          "font": {
           "color": "#2a3f5f"
          },
          "geo": {
           "bgcolor": "white",
           "lakecolor": "white",
           "landcolor": "#E5ECF6",
           "showlakes": true,
           "showland": true,
           "subunitcolor": "white"
          },
          "hoverlabel": {
           "align": "left"
          },
          "hovermode": "closest",
          "mapbox": {
           "style": "light"
          },
          "paper_bgcolor": "white",
          "plot_bgcolor": "#E5ECF6",
          "polar": {
           "angularaxis": {
            "gridcolor": "white",
            "linecolor": "white",
            "ticks": ""
           },
           "bgcolor": "#E5ECF6",
           "radialaxis": {
            "gridcolor": "white",
            "linecolor": "white",
            "ticks": ""
           }
          },
          "scene": {
           "xaxis": {
            "backgroundcolor": "#E5ECF6",
            "gridcolor": "white",
            "gridwidth": 2,
            "linecolor": "white",
            "showbackground": true,
            "ticks": "",
            "zerolinecolor": "white"
           },
           "yaxis": {
            "backgroundcolor": "#E5ECF6",
            "gridcolor": "white",
            "gridwidth": 2,
            "linecolor": "white",
            "showbackground": true,
            "ticks": "",
            "zerolinecolor": "white"
           },
           "zaxis": {
            "backgroundcolor": "#E5ECF6",
            "gridcolor": "white",
            "gridwidth": 2,
            "linecolor": "white",
            "showbackground": true,
            "ticks": "",
            "zerolinecolor": "white"
           }
          },
          "shapedefaults": {
           "line": {
            "color": "#2a3f5f"
           }
          },
          "ternary": {
           "aaxis": {
            "gridcolor": "white",
            "linecolor": "white",
            "ticks": ""
           },
           "baxis": {
            "gridcolor": "white",
            "linecolor": "white",
            "ticks": ""
           },
           "bgcolor": "#E5ECF6",
           "caxis": {
            "gridcolor": "white",
            "linecolor": "white",
            "ticks": ""
           }
          },
          "title": {
           "x": 0.05
          },
          "xaxis": {
           "automargin": true,
           "gridcolor": "white",
           "linecolor": "white",
           "ticks": "",
           "title": {
            "standoff": 15
           },
           "zerolinecolor": "white",
           "zerolinewidth": 2
          },
          "yaxis": {
           "automargin": true,
           "gridcolor": "white",
           "linecolor": "white",
           "ticks": "",
           "title": {
            "standoff": 15
           },
           "zerolinecolor": "white",
           "zerolinewidth": 2
          }
         }
        },
        "title": {
         "text": "Top 10 Winning Teams in ODIs"
        }
       }
      }
     },
     "metadata": {},
     "output_type": "display_data"
    }
   ],
   "source": [
    "top_winners = df_odies['Winner'].value_counts().head(10).reset_index()\n",
    "top_winners.columns = ['Team', 'Wins']\n",
    "\n",
    "fig = px.treemap(top_winners, path=['Team'], values='Wins', title='Top 10 Winning Teams in ODIs')\n",
    "fig.show()\n"
   ]
  },
  {
   "cell_type": "code",
   "execution_count": 69,
   "metadata": {},
   "outputs": [
    {
     "data": {
      "image/png": "[encoded data removed]",
      "text/plain": [
       "<Figure size 1200x600 with 1 Axes>"
      ]
     },
     "metadata": {},
     "output_type": "display_data"
    }
   ],
   "source": [
    "# 3. Matches over Years\n",
    "df_odies['year'] = pd.to_datetime(df_odies['Date']).dt.year\n",
    "df_odies['year'].value_counts().sort_index().plot(kind='bar', figsize=(12,6))\n",
    "plt.title('Number of Matches Over the Years in ODI')\n",
    "plt.xlabel('Year')\n",
    "plt.ylabel('Matches')\n",
    "plt.show()"
   ]
  }
 ],
 "metadata": {
  "kernelspec": {
   "display_name": "base",
   "language": "python",
   "name": "python3"
  },
  "language_info": {
   "codemirror_mode": {
    "name": "ipython",
    "version": 3
   },
   "file_extension": ".py",
   "mimetype": "text/x-python",
   "name": "python",
   "nbconvert_exporter": "python",
   "pygments_lexer": "ipython3",
   "version": "3.12.7"
  }
 },
 "nbformat": 4,
 "nbformat_minor": 2
}
